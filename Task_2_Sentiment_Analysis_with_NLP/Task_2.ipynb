{
 "cells": [
  {
   "cell_type": "code",
   "execution_count": 65,
   "id": "b3068aa9",
   "metadata": {},
   "outputs": [],
   "source": [
    "# 📚 Import Required Libraries\n",
    "import pandas as pd\n",
    "import numpy as np\n",
    "import matplotlib.pyplot as plt\n",
    "import seaborn as sns\n",
    "\n",
    "from sklearn.model_selection import train_test_split\n",
    "from sklearn.feature_extraction.text import TfidfVectorizer\n",
    "from sklearn.linear_model import LogisticRegression\n",
    "from sklearn.metrics import accuracy_score, classification_report, confusion_matrix\n",
    "import re\n",
    "import string"
   ]
  },
  {
   "cell_type": "code",
   "execution_count": 66,
   "id": "7e75d4dc",
   "metadata": {},
   "outputs": [
    {
     "data": {
      "text/html": [
       "<div>\n",
       "<style scoped>\n",
       "    .dataframe tbody tr th:only-of-type {\n",
       "        vertical-align: middle;\n",
       "    }\n",
       "\n",
       "    .dataframe tbody tr th {\n",
       "        vertical-align: top;\n",
       "    }\n",
       "\n",
       "    .dataframe thead th {\n",
       "        text-align: right;\n",
       "    }\n",
       "</style>\n",
       "<table border=\"1\" class=\"dataframe\">\n",
       "  <thead>\n",
       "    <tr style=\"text-align: right;\">\n",
       "      <th></th>\n",
       "      <th>Review</th>\n",
       "      <th>Sentiment</th>\n",
       "    </tr>\n",
       "  </thead>\n",
       "  <tbody>\n",
       "    <tr>\n",
       "      <th>0</th>\n",
       "      <td>I loved the product! Highly recommend.</td>\n",
       "      <td>Positive</td>\n",
       "    </tr>\n",
       "    <tr>\n",
       "      <th>1</th>\n",
       "      <td>Terrible experience. Wouldn't buy again.</td>\n",
       "      <td>Negative</td>\n",
       "    </tr>\n",
       "    <tr>\n",
       "      <th>2</th>\n",
       "      <td>The quality is okay, not the best.</td>\n",
       "      <td>Negative</td>\n",
       "    </tr>\n",
       "    <tr>\n",
       "      <th>3</th>\n",
       "      <td>Excellent service and fast delivery!</td>\n",
       "      <td>Positive</td>\n",
       "    </tr>\n",
       "    <tr>\n",
       "      <th>4</th>\n",
       "      <td>Not worth the money.</td>\n",
       "      <td>Negative</td>\n",
       "    </tr>\n",
       "  </tbody>\n",
       "</table>\n",
       "</div>"
      ],
      "text/plain": [
       "                                     Review Sentiment\n",
       "0    I loved the product! Highly recommend.  Positive\n",
       "1  Terrible experience. Wouldn't buy again.  Negative\n",
       "2        The quality is okay, not the best.  Negative\n",
       "3      Excellent service and fast delivery!  Positive\n",
       "4                      Not worth the money.  Negative"
      ]
     },
     "execution_count": 66,
     "metadata": {},
     "output_type": "execute_result"
    }
   ],
   "source": [
    "\n",
    "df = pd.read_csv('customer_reviews.csv')\n",
    "df.head()"
   ]
  },
  {
   "cell_type": "code",
   "execution_count": 85,
   "id": "49a6e106",
   "metadata": {},
   "outputs": [
    {
     "data": {
      "text/plain": [
       "<bound method DataFrame.isna of                                       Review Sentiment  \\\n",
       "0     I loved the product! Highly recommend.  Positive   \n",
       "1   Terrible experience. Wouldn't buy again.  Negative   \n",
       "2         The quality is okay, not the best.  Negative   \n",
       "3       Excellent service and fast delivery!  Positive   \n",
       "4                       Not worth the money.  Negative   \n",
       "..                                       ...       ...   \n",
       "95             Didn't find it useful at all.  Negative   \n",
       "96                       Poor response time.  Negative   \n",
       "97           No refund or replacement given.  Negative   \n",
       "98              Design is ugly and outdated.  Negative   \n",
       "99            Stopped charging after a week.  Negative   \n",
       "\n",
       "                             clean_review  label  \n",
       "0    i loved the product highly recommend    NaN  \n",
       "1   terrible experience wouldnt buy again    NaN  \n",
       "2        the quality is okay not the best    NaN  \n",
       "3     excellent service and fast delivery    NaN  \n",
       "4                     not worth the money    NaN  \n",
       "..                                    ...    ...  \n",
       "95            didnt find it useful at all    NaN  \n",
       "96                     poor response time    NaN  \n",
       "97         no refund or replacement given    NaN  \n",
       "98            design is ugly and outdated    NaN  \n",
       "99          stopped charging after a week    NaN  \n",
       "\n",
       "[100 rows x 4 columns]>"
      ]
     },
     "execution_count": 85,
     "metadata": {},
     "output_type": "execute_result"
    }
   ],
   "source": [
    "df.isna"
   ]
  },
  {
   "cell_type": "code",
   "execution_count": 81,
   "id": "d68d0501",
   "metadata": {},
   "outputs": [],
   "source": [
    "def clean_text(text):\n",
    "    text = text.lower()\n",
    "    text = re.sub(r'<.*?>', '', text)  # Remove HTML\n",
    "    text = re.sub(r'[^\\w\\s]', '', text)  # Remove punctuation\n",
    "    text = re.sub(r'\\d+', '', text)  # Remove numbers\n",
    "    text = text.strip()\n",
    "    return text\n",
    "\n",
    "df['clean_review'] = df['Review'].apply(clean_text)"
   ]
  },
  {
   "cell_type": "code",
   "execution_count": 86,
   "id": "99f59b98",
   "metadata": {},
   "outputs": [],
   "source": [
    "# Convert sentiments to binary labels\n",
    "df['label'] = df['Sentiment'].map({'Positive': 1, 'Negative': 0})\n",
    "\n",
    "# Train-Test Split\n",
    "X_train, X_test, y_train, y_test = train_test_split(df['clean_review'], df['label'], test_size=0.3, random_state=42)\n",
    "\n",
    "# TF-IDF Vectorization\n",
    "tfidf = TfidfVectorizer(stop_words='english')\n",
    "X_train_tfidf = tfidf.fit_transform(X_train)\n",
    "X_test_tfidf = tfidf.transform(X_test)\n"
   ]
  },
  {
   "cell_type": "code",
   "execution_count": 87,
   "id": "65598e12",
   "metadata": {},
   "outputs": [
    {
     "name": "stdout",
     "output_type": "stream",
     "text": [
      "X_train_tfidf shape: (70, 153)\n",
      "y_train shape: (70,)\n"
     ]
    }
   ],
   "source": [
    "print(\"X_train_tfidf shape:\", X_train_tfidf.shape)\n",
    "print(\"y_train shape:\", y_train.shape)\n"
   ]
  },
  {
   "cell_type": "code",
   "execution_count": 88,
   "id": "8ddccb50",
   "metadata": {},
   "outputs": [],
   "source": [
    "# Logistic Regression\n",
    "model = LogisticRegression()\n",
    "model.fit(X_train_tfidf, y_train)\n",
    "\n",
    "# Predict\n",
    "y_pred = model.predict(X_test_tfidf)\n"
   ]
  },
  {
   "cell_type": "code",
   "execution_count": 89,
   "id": "0a3b0c4b",
   "metadata": {},
   "outputs": [
    {
     "name": "stdout",
     "output_type": "stream",
     "text": [
      "Accuracy: 0.7333333333333333\n",
      "Confusion Matrix:\n",
      " [[10  7]\n",
      " [ 1 12]]\n",
      "\n",
      "Classification Report:\n",
      "               precision    recall  f1-score   support\n",
      "\n",
      "           0       0.91      0.59      0.71        17\n",
      "           1       0.63      0.92      0.75        13\n",
      "\n",
      "    accuracy                           0.73        30\n",
      "   macro avg       0.77      0.76      0.73        30\n",
      "weighted avg       0.79      0.73      0.73        30\n",
      "\n"
     ]
    }
   ],
   "source": [
    "# Accuracy\n",
    "print(\"Accuracy:\", accuracy_score(y_test, y_pred))\n",
    "\n",
    "# Confusion Matrix\n",
    "print(\"Confusion Matrix:\\n\", confusion_matrix(y_test, y_pred))\n",
    "\n",
    "# Classification Report\n",
    "print(\"\\nClassification Report:\\n\", classification_report(y_test, y_pred))\n"
   ]
  },
  {
   "cell_type": "code",
   "execution_count": 90,
   "id": "ca35e954",
   "metadata": {},
   "outputs": [
    {
     "data": {
      "text/plain": [
       "'Positive 😊'"
      ]
     },
     "execution_count": 90,
     "metadata": {},
     "output_type": "execute_result"
    }
   ],
   "source": [
    "def predict_sentiment(review):\n",
    "    review_clean = clean_text(review)\n",
    "    vector = tfidf.transform([review_clean])\n",
    "    prediction = model.predict(vector)[0]\n",
    "    return \"Positive 😊\" if prediction == 1 else \"Negative 😞\"\n",
    "\n",
    "# Try a custom review\n",
    "predict_sentiment(\"This is the best product I have ever used!\")"
   ]
  }
 ],
 "metadata": {
  "kernelspec": {
   "display_name": "Python 3",
   "language": "python",
   "name": "python3"
  },
  "language_info": {
   "codemirror_mode": {
    "name": "ipython",
    "version": 3
   },
   "file_extension": ".py",
   "mimetype": "text/x-python",
   "name": "python",
   "nbconvert_exporter": "python",
   "pygments_lexer": "ipython3",
   "version": "3.10.11"
  }
 },
 "nbformat": 4,
 "nbformat_minor": 5
}
